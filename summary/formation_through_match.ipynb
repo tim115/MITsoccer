{
 "cells": [
  {
   "cell_type": "code",
   "execution_count": 1,
   "metadata": {},
   "outputs": [],
   "source": [
    "import json\n",
    "import numpy as np\n",
    "import matplotlib.pyplot as plt\n",
    "import copy"
   ]
  },
  {
   "cell_type": "markdown",
   "metadata": {},
   "source": [
    "\n",
    "\n",
    "\n",
    "1. Give the right json_file for the wyscout data \n",
    "2. Give the right team ids for your data \n",
    "3. Give the right team names\n",
    "4. Choose a name for the saved file, you can also leave it as it is\n",
    "5. If you like to you can edit the color genertor or you can use the code without it\n",
    "\n"
   ]
  },
  {
   "cell_type": "code",
   "execution_count": 4,
   "metadata": {},
   "outputs": [],
   "source": [
    "\n",
    "# Opening json file\n",
    "f = open('../../data/wyscout/5111384/5111384_events.json', 'r')\n",
    "data = json.load(f)"
   ]
  },
  {
   "cell_type": "code",
   "execution_count": 5,
   "metadata": {},
   "outputs": [],
   "source": [
    "team_away_id =  9109  # Austria\n",
    "team_home_id =  10073  # North Macedonia\n",
    "\n",
    "team_away_name = 'Austria'\n",
    "team_home_name = 'North Macedonia'\n",
    "\n",
    "team_home_formation = np.array([])\n",
    "team_away_formation = np.array([])\n",
    "time = np.array([])\n",
    "\n",
    "filename = f\"formations_{team_home_name}_{team_away_name}.png\"\n",
    "filename = filename.replace(\" \", \"\")"
   ]
  },
  {
   "cell_type": "code",
   "execution_count": 27,
   "metadata": {},
   "outputs": [
    {
     "data": {
      "text/plain": [
       "11956"
      ]
     },
     "execution_count": 27,
     "metadata": {},
     "output_type": "execute_result"
    }
   ],
   "source": [
    "for e in data['events']:\n",
    "    second = e['second']\n",
    "    minute = e['minute']\n",
    "    time_in_min = second / 60 +  minute\n",
    "            \n",
    "    if e['team']['id'] == team_home_id:\n",
    "       formation = e['team']['formation'] \n",
    "       team_home_formation = np.append(team_home_formation, formation)\n",
    "       formation = e['opponentTeam']['formation'] \n",
    "       team_away_formation = np.append(team_away_formation, formation)\n",
    "    if e['team']['id'] == team_away_id:\n",
    "       formation = e['team']['formation'] \n",
    "       team_away_formation = np.append(team_away_formation, formation)\n",
    "       formation = e['opponentTeam']['formation'] \n",
    "       team_home_formation = np.append(team_home_formation, formation)\n",
    "    \n",
    "    time = np.append(time, time_in_min)        \n",
    "\n",
    "len(team_home_formation)"
   ]
  },
  {
   "cell_type": "code",
   "execution_count": 46,
   "metadata": {},
   "outputs": [],
   "source": [
    "def extract(formation, time):\n",
    "    current_formation = formation[0]\n",
    "    \n",
    "    formations = [current_formation]\n",
    "    durations = []\n",
    "    last_changed = 0.\n",
    "    lasted_until = []\n",
    "    \n",
    "    for i in range(len(formation[1:])):\n",
    "        if formation[i] != current_formation :\n",
    "            formations.append(current_formation)\n",
    "            durations.append(time[i] - last_changed)\n",
    "            last_changed = time[i]\n",
    "            lasted_until.append(last_changed)\n",
    "            current_formation = formation[i]\n",
    "            \n",
    "     \n",
    "    if current_formation != formations[-1] :\n",
    "        formations.append(current_formation)\n",
    "        durations.append(time[-1] - last_changed )\n",
    "        lasted_until.append(time[-1])\n",
    "    \n",
    "    return durations, formations, lasted_until\n"
   ]
  },
  {
   "cell_type": "code",
   "execution_count": 47,
   "metadata": {},
   "outputs": [],
   "source": [
    "home_duration_formation, home_labels, home_lasted_until = extract(team_home_formation, time)\n",
    "away_duration_formation, away_labels, away_lasted_until = extract(team_away_formation, time)"
   ]
  },
  {
   "cell_type": "code",
   "execution_count": 51,
   "metadata": {},
   "outputs": [],
   "source": [
    "\n",
    "def colorgenerator(home, progress):\n",
    "    # Home is boolean and progress from 0 to 1\n",
    "    if home:\n",
    "        return (progress, progress / 4, progress / 4)\n",
    "    else:\n",
    "\n",
    "        return (progress / 4, progress / 4, progress)\n"
   ]
  },
  {
   "cell_type": "code",
   "execution_count": 52,
   "metadata": {},
   "outputs": [
    {
     "name": "stdout",
     "output_type": "stream",
     "text": [
      "Saved plot as:  formations_NorthMacedonia_Austria.png\n"
     ]
    },
    {
     "data": {
      "image/png": "[encoded data removed]",
      "text/plain": [
       "<Figure size 432x288 with 1 Axes>"
      ]
     },
     "metadata": {
      "needs_background": "light"
     },
     "output_type": "display_data"
    }
   ],
   "source": [
    "fig, ax = plt.subplots()\n",
    "labels = [team_home_name, team_away_name]\n",
    "\"\"\"\n",
    "for i in range(len(home_duration_formation)):\n",
    "    if i == 0:\n",
    "        rects = ax.barh(labels, [home_duration_formation[i],0], height=0.5, label=home_labels[i] ) \n",
    "    else: \n",
    "        rects = ax.barh(labels, [home_duration_formation[i],0], height=0.5, label=home_labels[i], left=[sum(home_duration_formation[0:i]), 0] ) \n",
    "\n",
    "\n",
    "for i in range(len(away_duration_formation)):\n",
    "    if i == 0:\n",
    "        rects = ax.barh(labels, [0,away_duration_formation[i]], height=0.5, label=away_labels[i] ) \n",
    "    else: \n",
    "        rects = ax.barh(labels, [0,away_duration_formation[i]], height=0.5, label=away_labels[i], left=[0, sum(away_duration_formation[0:i])] ) \n",
    "\"\"\"\n",
    "\n",
    "# With colorgenerator\n",
    "for i in range(len(home_duration_formation)):\n",
    "    if i == 0:\n",
    "        rects = ax.barh(labels, [home_duration_formation[i], 0], height=0.5,\n",
    "                        label=home_labels[i], color=colorgenerator(True, home_lasted_until[i]/time[-1]))\n",
    "    else:\n",
    "        rects = ax.barh(labels, [home_duration_formation[i], 0], height=0.5, label=home_labels[i], left=[\n",
    "                        sum(home_duration_formation[0:i]), 0], color=colorgenerator(True, home_lasted_until[i]/time[-1]))\n",
    "\n",
    "\n",
    "for i in range(len(away_duration_formation)):\n",
    "    if i == 0:\n",
    "        rects = ax.barh(labels, [0, away_duration_formation[i]], height=0.5,\n",
    "                        label=away_labels[i], color=colorgenerator(False, away_lasted_until[i]/time[-1]))\n",
    "    else:\n",
    "        rects = ax.barh(labels, [0, away_duration_formation[i]], height=0.5, label=away_labels[i], left=[\n",
    "                        0, sum(away_duration_formation[0:i])], color=colorgenerator(False, away_lasted_until[i]/time[-1]))\n",
    "\n",
    "ax.legend(loc='best')\n",
    "ax.set_title('Formations throught the match')\n",
    "ax.set_xlabel('time in minutes')\n",
    "plt.tight_layout()\n",
    "plt.savefig(filename, dpi=200)\n",
    "\n",
    "print(\"Saved plot as: \", filename)"
   ]
  },
  {
   "cell_type": "code",
   "execution_count": null,
   "metadata": {},
   "outputs": [],
   "source": []
  }
 ],
 "metadata": {
  "interpreter": {
   "hash": "d51905acba8981def21f4be14707fc4f0d567cc11cff9a605be93124eb60e46a"
  },
  "kernelspec": {
   "display_name": "Python 3.9.12 ('soccer-analytics')",
   "language": "python",
   "name": "python3"
  },
  "language_info": {
   "codemirror_mode": {
    "name": "ipython",
    "version": 3
   },
   "file_extension": ".py",
   "mimetype": "text/x-python",
   "name": "python",
   "nbconvert_exporter": "python",
   "pygments_lexer": "ipython3",
   "version": "3.9.12"
  },
  "orig_nbformat": 4
 },
 "nbformat": 4,
 "nbformat_minor": 2
}
