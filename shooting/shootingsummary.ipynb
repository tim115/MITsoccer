{
 "cells": [
  {
   "cell_type": "code",
   "execution_count": 2,
   "metadata": {},
   "outputs": [
    {
     "name": "stdout",
     "output_type": "stream",
     "text": [
      "|Player|Total shots|Shots on goal|Goals|Accuracy|Expected goals|\n",
      "|---|---|---|---|---|---|\n",
      "|Stefan Lainer|1|1|1|100.0%|0.16|\n",
      "|Xaver Schlager|1|0|0|0.0%|0.05|\n",
      "|Marcel Sabitzer|2|0|0|0.0%|0.07|\n",
      "|Sasa Kalajdzic|2|1|0|50.0%|0.2|\n",
      "|Christoph Baumgartner|1|1|0|100.0%|0.04|\n",
      "|Michael Gregoritsch|2|2|1|100.0%|0.42|\n",
      "|Marko Arnautović|1|1|1|100.0%|0.46|\n",
      "|**Team**|10|6|3|60.0%|1.4|\n",
      "\n",
      "|Player|Total shots|Shots on goal|Goals|Accuracy|Expected goals|\n",
      "|---|---|---|---|---|---|\n",
      "|Stefan Ristovski|1|0|0|0.0%|0.02|\n",
      "|Boban Nikolov|2|1|0|50.0%|0.16|\n",
      "|Ezgjan Alioski|1|0|0|0.0%|0.02|\n",
      "|Eljif Elmas|1|0|0|0.0%|0.08|\n",
      "|Goran Pandev|2|1|1|50.0%|0.41|\n",
      "|**Team**|7|2|1|28.57%|0.69|\n",
      "\n"
     ]
    }
   ],
   "source": [
    "import pandas as pd\n",
    "import json\n",
    "\n",
    "filename = '../data/statsbomb360/events/3788747.json' # TODO: insert the filename of your StatBomb's data \n",
    "\t\n",
    "with open(filename, encoding='utf8') as f:\n",
    "    statsb = pd.json_normalize(json.load(f))\n",
    "\n",
    "def shooter_total(player):\n",
    "    local_df = statsb.copy(deep=True)\n",
    "    local_df = local_df[local_df[\"type.name\"]==\"Shot\"]\n",
    "    local_df = local_df[local_df[\"player.name\"]==player]\n",
    "    tot_shot = local_df.shape[0]\n",
    "    if tot_shot>0:\n",
    "        goal_mask = (local_df[\"shot.outcome.name\"]==\"Goal\")\n",
    "        saved_mask = (local_df[\"shot.outcome.name\"]==\"Saved\") | (local_df[\"shot.outcome.name\"]==\"Saved To Post\")\n",
    "        on_goal = local_df[((goal_mask) | (saved_mask))].shape[0]\n",
    "        goal = local_df[(goal_mask)].shape[0]\n",
    "        accuracy = round(on_goal/tot_shot*100,2)\n",
    "        xg = round(local_df[\"shot.statsbomb_xg\"].sum(),2)\n",
    "    else:\n",
    "        return []\n",
    "    return [tot_shot,on_goal,goal,f\"{accuracy}%\",xg]\n",
    "\n",
    "def all_players(df, home_team=True):\n",
    "    team_dict = {}\n",
    "    if home_team == True:\n",
    "        for i in df[\"tactics.lineup\"][0]:\n",
    "            team_dict[i['player']['name']] = []\n",
    "        for i, r in df[((df[\"type.name\"]==\"Substitution\") & (df[\"team.name\"]==df[\"team.name\"][0]))].iterrows():\n",
    "            team_dict[r[\"substitution.replacement.name\"]] = []\n",
    "\n",
    "    else:\n",
    "        for i in df[\"tactics.lineup\"][1]:\n",
    "            team_dict[i['player']['name']] = []\n",
    "        for i, r in df[((df[\"type.name\"]==\"Substitution\") & (df[\"team.name\"]==df[\"team.name\"][1]))].iterrows():\n",
    "            team_dict[r[\"substitution.replacement.name\"]] = []\n",
    "\n",
    "    return team_dict\n",
    "\n",
    "for team in [True, False]:\n",
    "    team_dict = all_players(statsb,home_team=team)\n",
    "    tot_team=0\n",
    "    completed_team=0\n",
    "    goals_team=0\n",
    "    xg_team=0\n",
    "    print(\"|Player|Total shots|Shots on goal|Goals|Accuracy|Expected goals|\")\n",
    "    print(\"|---|---|---|---|---|---|\")\n",
    "    for player_name, loc in team_dict.items():\n",
    "        p = shooter_total(player_name)\n",
    "        if p!=[]:\n",
    "            print(\"|{}|{}|\".format(player_name,\"|\".join(str(pp) for pp in p)))\n",
    "            tot_team+=p[0]\n",
    "            completed_team+=p[1]\n",
    "            goals_team+=p[2]\n",
    "            xg_team+=p[4]\n",
    "    print(f\"|**Team**|{tot_team}|{completed_team}|{goals_team}|{round(completed_team/tot_team*100,2)}%|{round(xg_team,2)}|\\n\")\n"
   ]
  },
  {
   "cell_type": "code",
   "execution_count": null,
   "metadata": {},
   "outputs": [],
   "source": []
  }
 ],
 "metadata": {
  "interpreter": {
   "hash": "88965817083ce429a1aa05073de632f9a811e920350d072f652c30aed9cb272b"
  },
  "kernelspec": {
   "display_name": "Python 3.9.12 ('soccer-analytics')",
   "language": "python",
   "name": "python3"
  },
  "language_info": {
   "codemirror_mode": {
    "name": "ipython",
    "version": 3
   },
   "file_extension": ".py",
   "mimetype": "text/x-python",
   "name": "python",
   "nbconvert_exporter": "python",
   "pygments_lexer": "ipython3",
   "version": "3.9.12"
  },
  "orig_nbformat": 4
 },
 "nbformat": 4,
 "nbformat_minor": 2
}
