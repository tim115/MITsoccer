{
 "cells": [
  {
   "cell_type": "code",
   "execution_count": 1,
   "metadata": {},
   "outputs": [],
   "source": [
    "import json\n",
    "import pandas as pd"
   ]
  },
  {
   "cell_type": "code",
   "execution_count": null,
   "metadata": {},
   "outputs": [],
   "source": [
    "def parse_data():\n",
    "\n",
    "    all_events = []\n",
    "\n",
    "    with open('..data/statsbomb360/events/3788747.json', 'r') as f:\n",
    "        events = json.load(f)\n",
    "\n",
    "    passes = [x for x in events if x['type']['name'] == \"Pass\"]\n",
    "            \n",
    "    for p in passes:\n",
    "        attributes = {\n",
    "            \"x\": p['location'][0],\n",
    "            \"y\": p['location'][1],\n",
    "            \"end_x\": p['pass']['end_location'][0],\n",
    "            \"end_y\": p['pass']['end_location'][1],\n",
    "            \"outcome\": 0 if 'outcome' in p['pass'].keys() else 1,\n",
    "        }\n",
    "        all_events.append(attributes)\n",
    "            \n",
    "    return pd.DataFrame(all_events)"
   ]
  }
 ],
 "metadata": {
  "interpreter": {
   "hash": "3eafdddfa7cbbe427eb81665c713c7f47160bdc9bba4b7a24f644586d943b959"
  },
  "kernelspec": {
   "display_name": "Python 3.9.12 ('soccer-analytics')",
   "language": "python",
   "name": "python3"
  },
  "language_info": {
   "codemirror_mode": {
    "name": "ipython",
    "version": 3
   },
   "file_extension": ".py",
   "mimetype": "text/x-python",
   "name": "python",
   "nbconvert_exporter": "python",
   "pygments_lexer": "ipython3",
   "version": "3.9.12"
  },
  "orig_nbformat": 4
 },
 "nbformat": 4,
 "nbformat_minor": 2
}
