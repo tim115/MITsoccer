{
 "cells": [
  {
   "cell_type": "code",
   "execution_count": 5,
   "metadata": {},
   "outputs": [],
   "source": [
    "import matplotlib.pyplot as plt\n",
    "from matplotlib import animation\n",
    "import numpy as np\n",
    "import pandas as pd\n",
    "import xml.etree.ElementTree as ET\n",
    "import datetime\n",
    "import time\n",
    "import json\n",
    "import plotly.graph_objects as gp\n",
    "import chart_studio.plotly as py\n",
    "from plotly.offline import plot \n",
    "import seaborn as sns\n",
    "import json\n",
    "#%%\n",
    "# load matchstats.json and prepare the data to be read\n",
    "# if you want to use it for another match, change the id in the .json and the id of the teams playing"
   ]
  },
  {
   "cell_type": "code",
   "execution_count": 6,
   "metadata": {},
   "outputs": [
    {
     "name": "stdout",
     "output_type": "stream",
     "text": [
      "dict_keys(['general', 'possession', 'openPlay', 'attacks', 'transitions', 'passes', 'defence', 'duels', 'flanks', 'matchId', 'teams'])\n"
     ]
    },
    {
     "data": {
      "text/plain": [
       "{'9109': {'teamId': 9109}, '10073': {'teamId': 10073}}"
      ]
     },
     "execution_count": 6,
     "metadata": {},
     "output_type": "execute_result"
    }
   ],
   "source": [
    "with open('../../data/wyscout/5111384/5111384_matchstats.json', 'r') as f: \n",
    "    data = json.load(f)\n",
    "data['teams']"
   ]
  },
  {
   "cell_type": "code",
   "execution_count": 8,
   "metadata": {},
   "outputs": [
    {
     "data": {
      "image/png": "[encoded data removed]",
      "text/plain": [
       "<Figure size 432x288 with 1 Axes>"
      ]
     },
     "metadata": {
      "needs_background": "light"
     },
     "output_type": "display_data"
    }
   ],
   "source": [
    "id_austria = '9109'\n",
    "id_north_macedonia = '10073'\n",
    "austria = data['general'][id_austria]\n",
    "north_macedonia = data['general'][id_north_macedonia]\n",
    "\n",
    "# this lines allow us to obtain the successful passes in percentage\n",
    "variable_1 = data['passes'][id_austria]['passesSuccessful'] / \\\n",
    "    data['passes'][id_austria]['passes'] * 100\n",
    "variable_2 = data['passes'][id_north_macedonia]['passesSuccessful'] / \\\n",
    "    data['passes'][id_north_macedonia]['passes'] * 100\n",
    "\n",
    "# the \"-\" sign is used to plot the bars to different directions from the origin\n",
    "df = pd.DataFrame({'Team Stats': ['Shots', 'On target', 'Possession', 'Passes', 'Pass accuracy', 'Fouls', 'Yellow cards', 'Red cards', 'Offsides', 'Corners'],\n",
    "                   'Austria': [(-1)*austria['shots'], (-1)*austria['shotsOnTarget'], (-1)*data['possession'][id_austria]['possessionPercent'], (-1)*data['passes'][id_austria]['passes'], (-1)*variable_1, (-1)*austria['fouls'], (-1)*austria['yellowCards'], (-1)*austria['redCards'], (-1)*austria['offsides'], (-1)*austria['corners']],\n",
    "                   'North Macedonia': [north_macedonia['shots'], north_macedonia['shotsOnTarget'], data['possession'][id_north_macedonia]['possessionPercent'], data['passes'][id_north_macedonia]['passes'], variable_2, north_macedonia['yellowCards'], north_macedonia['fouls'], north_macedonia['redCards'], north_macedonia['offsides'], north_macedonia['corners']]})\n",
    "# prepare data to be plotted\n",
    "# the plot used is typical in population pyramid studies\n",
    "aux = -df['Austria']+df['North Macedonia']\n",
    "\n",
    "real_poland = round(df['North Macedonia'].copy(deep=True))  # prepare labels\n",
    "real_sweden = round((-1)*df['Austria'].copy(deep=True))  # prepare labels\n",
    "# normalisation of the data (if not, the \"shots\" bar would be much bigger than the offsides\n",
    "df['Austria'] = df['Austria']/aux\n",
    "# just in case some of the elements of aux = 0. We put -0.01 to make the label visible\n",
    "df['Austria'] = df['Austria'].replace(np.nan, -0.01)\n",
    "# needed to make the label visible\n",
    "df['Austria'] = df['Austria'].replace(0, -0.01)\n",
    "df['North Macedonia'] = df['North Macedonia']/aux\n",
    "df['North Macedonia'] = df['North Macedonia'].replace(np.nan, 0.01)\n",
    "df['North Macedonia'] = df['North Macedonia'].replace(0, -0.01)\n",
    "\n",
    "# labels and plot format\n",
    "AgeClass = ['Shots', 'On target', 'Possession', 'Passes', 'Pass accuracy',\n",
    "            'Fouls', 'Yellow cards', 'Red cards', 'Offsides', 'Corners']\n",
    "\n",
    "\n",
    "bar_plot = sns.barplot(x='Austria', y='Team Stats', data=df,\n",
    "                       order=AgeClass, color=[255/255, 255/255, 3/255])\n",
    "\n",
    "\n",
    "bar_plot.bar_label(bar_plot.containers[0], labels=real_sweden.astype(int))\n",
    "\n",
    "\n",
    "bar_plot = sns.barplot(x='North Macedonia', y='Team Stats',\n",
    "                       data=df, order=AgeClass, color='r')\n",
    "bar_plot.bar_label(bar_plot.containers[1], labels=real_poland.astype(int))\n",
    "\n",
    "\n",
    "bar_plot.set(xlabel=None, ylabel=\"Attributes\", title=\"Team Stats\")\n",
    "bar_plot.set(xlim=(-1.2, 1.2), xticklabels=[])\n",
    "bar_plot.tick_params(bottom=False)\n",
    "plt.savefig('../../upload/summary/summary_google.png', dpi=300)"
   ]
  },
  {
   "cell_type": "code",
   "execution_count": null,
   "metadata": {},
   "outputs": [],
   "source": []
  }
 ],
 "metadata": {
  "interpreter": {
   "hash": "d51905acba8981def21f4be14707fc4f0d567cc11cff9a605be93124eb60e46a"
  },
  "kernelspec": {
   "display_name": "Python 3.9.12 ('soccer-analytics')",
   "language": "python",
   "name": "python3"
  },
  "language_info": {
   "codemirror_mode": {
    "name": "ipython",
    "version": 3
   },
   "file_extension": ".py",
   "mimetype": "text/x-python",
   "name": "python",
   "nbconvert_exporter": "python",
   "pygments_lexer": "ipython3",
   "version": "3.9.12"
  },
  "orig_nbformat": 4
 },
 "nbformat": 4,
 "nbformat_minor": 2
}
