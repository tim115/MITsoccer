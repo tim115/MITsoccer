{
 "cells": [
  {
   "cell_type": "code",
   "execution_count": 8,
   "metadata": {},
   "outputs": [],
   "source": [
    "import matplotlib.pyplot as plt\n",
    "from mplsoccer.pitch import Pitch\n",
    "import json\n",
    "from tqdm import tqdm\n",
    "import matplotlib.pyplot as plt\n",
    "import matplotlib.cm as cm\n",
    "import matplotlib.animation as animation\n"
   ]
  },
  {
   "cell_type": "code",
   "execution_count": 3,
   "metadata": {},
   "outputs": [],
   "source": [
    "## load in Statsbomb360 data remotely\n",
    "with open('../../data/statsbomb360/three-sixty/3788747.json', 'r') as f:\n",
    "    data = json.load(f)"
   ]
  },
  {
   "cell_type": "code",
   "execution_count": null,
   "metadata": {},
   "outputs": [],
   "source": [
    "\n",
    "img = [] # some array of images\n",
    "frames = [] # for storing the generated images\n",
    "fig = plt.figure()\n",
    "    frames.append([plt.imshow(img[i], cmap=cm.Greys_r,animated=True)])\n",
    "\n",
    "ani = animation.ArtistAnimation(fig, frames, interval=50, blit=True,\n",
    "                                repeat_delay=1000)\n",
    "# ani.save('movie.mp4')\n",
    "plt.show()"
   ]
  },
  {
   "cell_type": "code",
   "execution_count": 16,
   "metadata": {},
   "outputs": [
    {
     "name": "stderr",
     "output_type": "stream",
     "text": [
      "100%|██████████| 3097/3097 [02:05<00:00, 24.69it/s]\n"
     ]
    }
   ],
   "source": [
    "\n",
    "frames = []\n",
    "\n",
    "for frame_idx in tqdm(range(len(data))):\n",
    "    # Get plotting data\n",
    "    visible_area_xs = data[frame_idx][\"visible_area\"][::2]\n",
    "    visible_area_ys = data[frame_idx][\"visible_area\"][1::2]\n",
    "\n",
    "    player_position_data = data[frame_idx][\"freeze_frame\"]\n",
    "    teammate_locs = [ppd[\"location\"]\n",
    "                     for ppd in player_position_data if ppd[\"teammate\"]]\n",
    "    opponent_locs = [ppd[\"location\"]\n",
    "                     for ppd in player_position_data if not ppd[\"teammate\"]]\n",
    "    actors_locs = [ppd[\"location\"]\n",
    "                   for ppd in player_position_data if ppd[\"actor\"]]\n",
    "\n",
    "    # set up pitch\n",
    "    p = Pitch(pitch_type='statsbomb')\n",
    "    fig, ax = p.draw(figsize=(12, 8))\n",
    "\n",
    "    # plot\n",
    "    ax.fill(visible_area_xs, visible_area_ys, color=(\n",
    "        1, 0, 0, 0.3))  # coloring the camera visible area\n",
    "    [ax.scatter(x, y, color='orange', s=80, ec='k')\n",
    "     for (x, y) in teammate_locs]  # teammate locations scatter\n",
    "    [ax.scatter(x, y, color='dodgerblue', s=80, ec='k')\n",
    "     for (x, y) in opponent_locs]  # opponents locations scatter\n",
    "    [ax.scatter(x, y, color='red', s=100, ec='k')\n",
    "     for (x, y) in actors_locs]  # opponents locations scatter\n",
    "\n",
    "    # plt.show() ##to see the plot. You don't need this if you're using a jupyter notebook\n",
    "\n",
    "    # to save the plot\n",
    "    # plt.savefig(f'../../upload/statsbomb360/{frame_idx}.png')\n",
    "    plt.close()\n",
    "    frames.append(fig)"
   ]
  },
  {
   "cell_type": "code",
   "execution_count": 18,
   "metadata": {},
   "outputs": [
    {
     "name": "stderr",
     "output_type": "stream",
     "text": [
      "MovieWriter ffmpeg unavailable; using Pillow instead.\n"
     ]
    },
    {
     "ename": "IndexError",
     "evalue": "list index out of range",
     "output_type": "error",
     "traceback": [
      "\u001b[0;31m---------------------------------------------------------------------------\u001b[0m",
      "\u001b[0;31mTypeError\u001b[0m                                 Traceback (most recent call last)",
      "File \u001b[0;32m/opt/miniconda3/envs/soccer-analytics/lib/python3.9/site-packages/matplotlib/animation.py:234\u001b[0m, in \u001b[0;36mAbstractMovieWriter.saving\u001b[0;34m(self, fig, outfile, dpi, *args, **kwargs)\u001b[0m\n\u001b[1;32m    <a href='file:///opt/miniconda3/envs/soccer-analytics/lib/python3.9/site-packages/matplotlib/animation.py?line=232'>233</a>\u001b[0m \u001b[39mtry\u001b[39;00m:\n\u001b[0;32m--> <a href='file:///opt/miniconda3/envs/soccer-analytics/lib/python3.9/site-packages/matplotlib/animation.py?line=233'>234</a>\u001b[0m     \u001b[39myield\u001b[39;00m \u001b[39mself\u001b[39m\n\u001b[1;32m    <a href='file:///opt/miniconda3/envs/soccer-analytics/lib/python3.9/site-packages/matplotlib/animation.py?line=234'>235</a>\u001b[0m \u001b[39mfinally\u001b[39;00m:\n",
      "File \u001b[0;32m/opt/miniconda3/envs/soccer-analytics/lib/python3.9/site-packages/matplotlib/animation.py:1076\u001b[0m, in \u001b[0;36mAnimation.save\u001b[0;34m(self, filename, writer, fps, dpi, codec, bitrate, extra_args, metadata, extra_anim, savefig_kwargs, progress_callback)\u001b[0m\n\u001b[1;32m   <a href='file:///opt/miniconda3/envs/soccer-analytics/lib/python3.9/site-packages/matplotlib/animation.py?line=1074'>1075</a>\u001b[0m \u001b[39mfor\u001b[39;00m anim \u001b[39min\u001b[39;00m all_anim:\n\u001b[0;32m-> <a href='file:///opt/miniconda3/envs/soccer-analytics/lib/python3.9/site-packages/matplotlib/animation.py?line=1075'>1076</a>\u001b[0m     anim\u001b[39m.\u001b[39;49m_init_draw()  \u001b[39m# Clear the initial frame\u001b[39;00m\n\u001b[1;32m   <a href='file:///opt/miniconda3/envs/soccer-analytics/lib/python3.9/site-packages/matplotlib/animation.py?line=1076'>1077</a>\u001b[0m frame_number \u001b[39m=\u001b[39m \u001b[39m0\u001b[39m\n",
      "File \u001b[0;32m/opt/miniconda3/envs/soccer-analytics/lib/python3.9/site-packages/matplotlib/animation.py:1462\u001b[0m, in \u001b[0;36mArtistAnimation._init_draw\u001b[0;34m(self)\u001b[0m\n\u001b[1;32m   <a href='file:///opt/miniconda3/envs/soccer-analytics/lib/python3.9/site-packages/matplotlib/animation.py?line=1460'>1461</a>\u001b[0m \u001b[39mfor\u001b[39;00m f \u001b[39min\u001b[39;00m \u001b[39mself\u001b[39m\u001b[39m.\u001b[39mnew_frame_seq():\n\u001b[0;32m-> <a href='file:///opt/miniconda3/envs/soccer-analytics/lib/python3.9/site-packages/matplotlib/animation.py?line=1461'>1462</a>\u001b[0m     \u001b[39mfor\u001b[39;00m artist \u001b[39min\u001b[39;00m f:\n\u001b[1;32m   <a href='file:///opt/miniconda3/envs/soccer-analytics/lib/python3.9/site-packages/matplotlib/animation.py?line=1462'>1463</a>\u001b[0m         artist\u001b[39m.\u001b[39mset_visible(\u001b[39mFalse\u001b[39;00m)\n",
      "\u001b[0;31mTypeError\u001b[0m: 'Figure' object is not iterable",
      "\nDuring handling of the above exception, another exception occurred:\n",
      "\u001b[0;31mIndexError\u001b[0m                                Traceback (most recent call last)",
      "\u001b[1;32m/Users/csicard/Library/Mobile Documents/com~apple~CloudDocs/ETH Zurich/MA2/Soccer Analytics/Team-Repo/code/passing/statsbomb_360.ipynb Cell 5'\u001b[0m in \u001b[0;36m<cell line: 4>\u001b[0;34m()\u001b[0m\n\u001b[1;32m      <a href='vscode-notebook-cell:/Users/csicard/Library/Mobile%20Documents/com~apple~CloudDocs/ETH%20Zurich/MA2/Soccer%20Analytics/Team-Repo/code/passing/statsbomb_360.ipynb#ch0000007?line=0'>1</a>\u001b[0m fig \u001b[39m=\u001b[39m plt\u001b[39m.\u001b[39mFigure()\n\u001b[1;32m      <a href='vscode-notebook-cell:/Users/csicard/Library/Mobile%20Documents/com~apple~CloudDocs/ETH%20Zurich/MA2/Soccer%20Analytics/Team-Repo/code/passing/statsbomb_360.ipynb#ch0000007?line=1'>2</a>\u001b[0m ani \u001b[39m=\u001b[39m animation\u001b[39m.\u001b[39mArtistAnimation(fig, frames, interval\u001b[39m=\u001b[39m\u001b[39m50\u001b[39m, blit\u001b[39m=\u001b[39m\u001b[39mTrue\u001b[39;00m,\n\u001b[1;32m      <a href='vscode-notebook-cell:/Users/csicard/Library/Mobile%20Documents/com~apple~CloudDocs/ETH%20Zurich/MA2/Soccer%20Analytics/Team-Repo/code/passing/statsbomb_360.ipynb#ch0000007?line=2'>3</a>\u001b[0m                                 repeat_delay\u001b[39m=\u001b[39m\u001b[39m1000\u001b[39m)\n\u001b[0;32m----> <a href='vscode-notebook-cell:/Users/csicard/Library/Mobile%20Documents/com~apple~CloudDocs/ETH%20Zurich/MA2/Soccer%20Analytics/Team-Repo/code/passing/statsbomb_360.ipynb#ch0000007?line=3'>4</a>\u001b[0m ani\u001b[39m.\u001b[39;49msave(\u001b[39m\"\u001b[39;49m\u001b[39m../../upload/statsbomb360/video.mp4\u001b[39;49m\u001b[39m\"\u001b[39;49m)\n",
      "File \u001b[0;32m/opt/miniconda3/envs/soccer-analytics/lib/python3.9/site-packages/matplotlib/animation.py:1093\u001b[0m, in \u001b[0;36mAnimation.save\u001b[0;34m(self, filename, writer, fps, dpi, codec, bitrate, extra_args, metadata, extra_anim, savefig_kwargs, progress_callback)\u001b[0m\n\u001b[1;32m   <a href='file:///opt/miniconda3/envs/soccer-analytics/lib/python3.9/site-packages/matplotlib/animation.py?line=1090'>1091</a>\u001b[0m         progress_callback(frame_number, total_frames)\n\u001b[1;32m   <a href='file:///opt/miniconda3/envs/soccer-analytics/lib/python3.9/site-packages/matplotlib/animation.py?line=1091'>1092</a>\u001b[0m         frame_number \u001b[39m+\u001b[39m\u001b[39m=\u001b[39m \u001b[39m1\u001b[39m\n\u001b[0;32m-> <a href='file:///opt/miniconda3/envs/soccer-analytics/lib/python3.9/site-packages/matplotlib/animation.py?line=1092'>1093</a>\u001b[0m writer\u001b[39m.\u001b[39mgrab_frame(\u001b[39m*\u001b[39m\u001b[39m*\u001b[39msavefig_kwargs)\n",
      "File \u001b[0;32m/opt/miniconda3/envs/soccer-analytics/lib/python3.9/contextlib.py:137\u001b[0m, in \u001b[0;36m_GeneratorContextManager.__exit__\u001b[0;34m(self, typ, value, traceback)\u001b[0m\n\u001b[1;32m    <a href='file:///opt/miniconda3/envs/soccer-analytics/lib/python3.9/contextlib.py?line=134'>135</a>\u001b[0m     value \u001b[39m=\u001b[39m typ()\n\u001b[1;32m    <a href='file:///opt/miniconda3/envs/soccer-analytics/lib/python3.9/contextlib.py?line=135'>136</a>\u001b[0m \u001b[39mtry\u001b[39;00m:\n\u001b[0;32m--> <a href='file:///opt/miniconda3/envs/soccer-analytics/lib/python3.9/contextlib.py?line=136'>137</a>\u001b[0m     \u001b[39mself\u001b[39;49m\u001b[39m.\u001b[39;49mgen\u001b[39m.\u001b[39;49mthrow(typ, value, traceback)\n\u001b[1;32m    <a href='file:///opt/miniconda3/envs/soccer-analytics/lib/python3.9/contextlib.py?line=137'>138</a>\u001b[0m \u001b[39mexcept\u001b[39;00m \u001b[39mStopIteration\u001b[39;00m \u001b[39mas\u001b[39;00m exc:\n\u001b[1;32m    <a href='file:///opt/miniconda3/envs/soccer-analytics/lib/python3.9/contextlib.py?line=138'>139</a>\u001b[0m     \u001b[39m# Suppress StopIteration *unless* it's the same exception that\u001b[39;00m\n\u001b[1;32m    <a href='file:///opt/miniconda3/envs/soccer-analytics/lib/python3.9/contextlib.py?line=139'>140</a>\u001b[0m     \u001b[39m# was passed to throw().  This prevents a StopIteration\u001b[39;00m\n\u001b[1;32m    <a href='file:///opt/miniconda3/envs/soccer-analytics/lib/python3.9/contextlib.py?line=140'>141</a>\u001b[0m     \u001b[39m# raised inside the \"with\" statement from being suppressed.\u001b[39;00m\n\u001b[1;32m    <a href='file:///opt/miniconda3/envs/soccer-analytics/lib/python3.9/contextlib.py?line=141'>142</a>\u001b[0m     \u001b[39mreturn\u001b[39;00m exc \u001b[39mis\u001b[39;00m \u001b[39mnot\u001b[39;00m value\n",
      "File \u001b[0;32m/opt/miniconda3/envs/soccer-analytics/lib/python3.9/site-packages/matplotlib/animation.py:236\u001b[0m, in \u001b[0;36mAbstractMovieWriter.saving\u001b[0;34m(self, fig, outfile, dpi, *args, **kwargs)\u001b[0m\n\u001b[1;32m    <a href='file:///opt/miniconda3/envs/soccer-analytics/lib/python3.9/site-packages/matplotlib/animation.py?line=233'>234</a>\u001b[0m     \u001b[39myield\u001b[39;00m \u001b[39mself\u001b[39m\n\u001b[1;32m    <a href='file:///opt/miniconda3/envs/soccer-analytics/lib/python3.9/site-packages/matplotlib/animation.py?line=234'>235</a>\u001b[0m \u001b[39mfinally\u001b[39;00m:\n\u001b[0;32m--> <a href='file:///opt/miniconda3/envs/soccer-analytics/lib/python3.9/site-packages/matplotlib/animation.py?line=235'>236</a>\u001b[0m     \u001b[39mself\u001b[39;49m\u001b[39m.\u001b[39;49mfinish()\n",
      "File \u001b[0;32m/opt/miniconda3/envs/soccer-analytics/lib/python3.9/site-packages/matplotlib/animation.py:512\u001b[0m, in \u001b[0;36mPillowWriter.finish\u001b[0;34m(self)\u001b[0m\n\u001b[1;32m    <a href='file:///opt/miniconda3/envs/soccer-analytics/lib/python3.9/site-packages/matplotlib/animation.py?line=510'>511</a>\u001b[0m \u001b[39mdef\u001b[39;00m \u001b[39mfinish\u001b[39m(\u001b[39mself\u001b[39m):\n\u001b[0;32m--> <a href='file:///opt/miniconda3/envs/soccer-analytics/lib/python3.9/site-packages/matplotlib/animation.py?line=511'>512</a>\u001b[0m     \u001b[39mself\u001b[39;49m\u001b[39m.\u001b[39;49m_frames[\u001b[39m0\u001b[39;49m]\u001b[39m.\u001b[39msave(\n\u001b[1;32m    <a href='file:///opt/miniconda3/envs/soccer-analytics/lib/python3.9/site-packages/matplotlib/animation.py?line=512'>513</a>\u001b[0m         \u001b[39mself\u001b[39m\u001b[39m.\u001b[39moutfile, save_all\u001b[39m=\u001b[39m\u001b[39mTrue\u001b[39;00m, append_images\u001b[39m=\u001b[39m\u001b[39mself\u001b[39m\u001b[39m.\u001b[39m_frames[\u001b[39m1\u001b[39m:],\n\u001b[1;32m    <a href='file:///opt/miniconda3/envs/soccer-analytics/lib/python3.9/site-packages/matplotlib/animation.py?line=513'>514</a>\u001b[0m         duration\u001b[39m=\u001b[39m\u001b[39mint\u001b[39m(\u001b[39m1000\u001b[39m \u001b[39m/\u001b[39m \u001b[39mself\u001b[39m\u001b[39m.\u001b[39mfps), loop\u001b[39m=\u001b[39m\u001b[39m0\u001b[39m)\n",
      "\u001b[0;31mIndexError\u001b[0m: list index out of range"
     ]
    }
   ],
   "source": [
    "fig = plt.Figure()\n",
    "ani = animation.ArtistAnimation(fig, frames, interval=50, blit=True,\n",
    "                                repeat_delay=1000)\n",
    "ani.save(\"../../upload/statsbomb360/video.mp4\")\n"
   ]
  },
  {
   "cell_type": "code",
   "execution_count": null,
   "metadata": {},
   "outputs": [],
   "source": []
  }
 ],
 "metadata": {
  "interpreter": {
   "hash": "d51905acba8981def21f4be14707fc4f0d567cc11cff9a605be93124eb60e46a"
  },
  "kernelspec": {
   "display_name": "Python 3.9.12 ('soccer-analytics')",
   "language": "python",
   "name": "python3"
  },
  "language_info": {
   "codemirror_mode": {
    "name": "ipython",
    "version": 3
   },
   "file_extension": ".py",
   "mimetype": "text/x-python",
   "name": "python",
   "nbconvert_exporter": "python",
   "pygments_lexer": "ipython3",
   "version": "3.9.12"
  },
  "orig_nbformat": 4
 },
 "nbformat": 4,
 "nbformat_minor": 2
}
