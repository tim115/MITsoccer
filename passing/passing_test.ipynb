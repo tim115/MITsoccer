{
 "cells": [
  {
   "cell_type": "code",
   "execution_count": 17,
   "metadata": {},
   "outputs": [],
   "source": [
    "#!/usr/bin/env python3\n",
    "# -*- coding: utf-8 -*-\n",
    "\n",
    "# IMPORTS\n",
    "import matplotlib.pyplot as plt\n",
    "from matplotlib import animation\n",
    "import numpy as np\n",
    "import pandas as pd\n",
    "import xml.etree.ElementTree as et\n",
    "import datetime\n",
    "import time\n",
    "import json\n",
    "import sys\n",
    "sys.path.append(\"..\")\n",
    "from helpers.helper import *\n",
    "from tqdm import tqdm"
   ]
  },
  {
   "cell_type": "code",
   "execution_count": 5,
   "metadata": {},
   "outputs": [],
   "source": [
    "# TODO: Path to tracab data\n",
    "match = Match(\n",
    "    \"../../data/tracab/Group Stage/Austria v North Macedonia/Austria v North Macedonia.xml\")\n"
   ]
  },
  {
   "cell_type": "code",
   "execution_count": 14,
   "metadata": {},
   "outputs": [],
   "source": [
    "\n",
    "first_half_begin = match.phases[0].start\n",
    "split1 = first_half_begin.split('T', 1)[1]\n",
    "split2 = split1.split('.', 1)\n",
    "aux2 = time.strptime(split2[0], '%H:%M:%S')\n",
    "timea = datetime.timedelta(hours=aux2.tm_hour, minutes=aux2.tm_min,\n",
    "                           seconds=aux2.tm_sec).total_seconds() + 0.001 * int(split2[1])\n",
    "\n",
    "first_half_end = match.phases[0].end\n",
    "split1 = first_half_end.split('T', 1)[1]\n",
    "split2 = split1.split('.', 1)\n",
    "aux2 = time.strptime(split2[0], '%H:%M:%S')\n",
    "timeb = datetime.timedelta(hours=aux2.tm_hour, minutes=aux2.tm_min,\n",
    "                           seconds=aux2.tm_sec).total_seconds() + 0.001 * int(split2[1])\n",
    "\n",
    "second_half_begin = match.phases[1].start\n",
    "split1 = second_half_begin.split('T', 1)[1]\n",
    "split2 = split1.split('.', 1)\n",
    "aux2 = time.strptime(split2[0], '%H:%M:%S')\n",
    "timec = datetime.timedelta(hours=aux2.tm_hour, minutes=aux2.tm_min,\n",
    "                           seconds=aux2.tm_sec).total_seconds() + 0.001 * int(split2[1])\n",
    "\n",
    "second_half_end = match.phases[1].end\n",
    "split1 = second_half_end.split('T', 1)[1]\n",
    "split2 = split1.split('.', 1)\n",
    "aux2 = time.strptime(split2[0], '%H:%M:%S')\n",
    "timed = datetime.timedelta(hours=aux2.tm_hour, minutes=aux2.tm_min,\n",
    "                           seconds=aux2.tm_sec).total_seconds() + 0.001 * int(split2[1])"
   ]
  },
  {
   "cell_type": "code",
   "execution_count": 18,
   "metadata": {},
   "outputs": [
    {
     "name": "stderr",
     "output_type": "stream",
     "text": [
      "100%|██████████| 144438/144438 [00:03<00:00, 37464.85it/s]\n"
     ]
    }
   ],
   "source": [
    "\n",
    "home = np.zeros(len(match.frames))\n",
    "away = np.zeros(len(match.frames))\n",
    "noone = np.zeros(len(match.frames))\n",
    "record_time = np.zeros((len(match.frames), 2))\n",
    "fase = 1\n",
    "\n",
    "for j in tqdm(range(len(match.frames))):\n",
    "    aux = match.frames[j].time.replace('Z', '')\n",
    "    split1 = aux.split('T', 1)[1]\n",
    "    split2 = split1.split('.', 1)\n",
    "    import time\n",
    "    aux2 = time.strptime(split2[0], '%H:%M:%S')\n",
    "    time = datetime.timedelta(hours=aux2.tm_hour, minutes=aux2.tm_min,\n",
    "                              seconds=aux2.tm_sec).total_seconds() + 0.001 * int(split2[1])\n",
    "    if match.frames[j].ballInPlay == '0':\n",
    "        noone[j] = 1\n",
    "    elif match.frames[j].ballPossession == 'Home':\n",
    "        home[j] = 1\n",
    "    else:\n",
    "        away[j] = 1\n",
    "    period1 = (time-timea)*(timeb-time)\n",
    "    period2 = (time-timec)*(timed-time)\n",
    "    if period1 >= 0:\n",
    "        record_time[j, 0] = 1\n",
    "        record_time[j, 1] = time-timea\n",
    "    if period2 >= 0:\n",
    "        record_time[j, 0] = 2\n",
    "        record_time[j, 1] = time-timec"
   ]
  },
  {
   "cell_type": "code",
   "execution_count": 23,
   "metadata": {},
   "outputs": [
    {
     "name": "stderr",
     "output_type": "stream",
     "text": [
      "100%|██████████| 144438/144438 [00:00<00:00, 573323.21it/s]\n"
     ]
    }
   ],
   "source": [
    "\n",
    "# Possession data\n",
    "# rows = mins (1..48 for 1H, then 1..X for 2H)\n",
    "# cols = (# frames with home possession, # frames with away possession, # frames where no one has possession, minute)\n",
    "# TODO: change the number of rows to the number of minutes in the match\n",
    "pos_per_min = np.zeros((96, 4))\n",
    "\n",
    "prev = 0\n",
    "aux = 0\n",
    "l = 0\n",
    "for i in tqdm(range(len(match.frames))):\n",
    "    k = record_time[i, 1] // 60\n",
    "\n",
    "    if k == aux + 1:\n",
    "        pos_per_min[l, :] = [sum(home[prev:i]), sum(\n",
    "            away[prev:i]), sum(noone[prev:i]), record_time[i, 1] // 60]\n",
    "        l = l + 1\n",
    "        prev = i + 1\n",
    "    aux = k"
   ]
  },
  {
   "cell_type": "code",
   "execution_count": 24,
   "metadata": {},
   "outputs": [],
   "source": [
    "# CODE BY rserrat - COUNT EVENTS IN TIME RANGE WITH WYSCOUT DATA\n",
    "# Snippet $470\n",
    "\n",
    "# TODO: path to wyscout data\n",
    "filename = \"../../data/wyscout/5111384/5111384_events.json\"\n",
    "\n",
    "# TODO: change team codes (swe=home, pol=away)\n",
    "id_austria = '9109'\n",
    "id_north_macedonia = '10073'"
   ]
  },
  {
   "cell_type": "code",
   "execution_count": 25,
   "metadata": {},
   "outputs": [],
   "source": [
    "def events_time_range(filename, event_type, period, t_start, t_end, team=None):\n",
    "    # Get data\n",
    "    with open(filename, \"r\") as f:\n",
    "        data = json.load(f)\n",
    "\n",
    "    # Number of instances\n",
    "    count = 0\n",
    "    events = []\n",
    "\n",
    "    # Iterate through events\n",
    "    for e in data[\"events\"]:\n",
    "\n",
    "        # Check period\n",
    "        if e[\"matchPeriod\"] != period:\n",
    "            continue\n",
    "\n",
    "        # Check event in time interval\n",
    "        time = e[\"minute\"]*60 + e[\"second\"]  # event time in secs\n",
    "        if (time < t_start):\n",
    "            continue  # skip to next iteration\n",
    "        elif (time > t_end):\n",
    "            break   # stop search\n",
    "\n",
    "        # Check proper team\n",
    "        if team is not None:\n",
    "            if e[\"team\"][\"id\"] != team:\n",
    "                continue\n",
    "\n",
    "        # Check primary and secondary event types\n",
    "        if e[\"type\"][\"primary\"] == event_type or event_type in e[\"type\"][\"secondary\"]:\n",
    "            count += 1\n",
    "            events.append(e)\n",
    "\n",
    "    return count, events"
   ]
  },
  {
   "cell_type": "code",
   "execution_count": 28,
   "metadata": {},
   "outputs": [
    {
     "name": "stdout",
     "output_type": "stream",
     "text": [
      "Possession Austria = 60.06%\n",
      "Possession North Macedonia = 39.94%\n"
     ]
    }
   ],
   "source": [
    "\n",
    "\n",
    "# TODO: change min1H to total number of minutes in the first half\n",
    "min1H = 47\n",
    "passes_austria_1 = np.zeros(min1H)  # passes per team in first half\n",
    "passes_north_macedonia_1 = np.zeros(min1H)\n",
    "\n",
    "for i in range(0, min1H):\n",
    "    # events of type \"pass\" in the first half by Austria\n",
    "    c, e = events_time_range(\n",
    "        filename, \"pass\", \"1H\", (pos_per_min[i, 3]-1)*60, pos_per_min[i, 3]*60-1, team=int(id_austria))\n",
    "    passes_austria_1[i] = c\n",
    "\n",
    "# events of type \"pass\" in the first half by North Macedonia\n",
    "    c, e = events_time_range(\n",
    "        filename, \"pass\", \"1H\", (pos_per_min[i, 3]-1)*60, pos_per_min[i, 3]*60-1, team=int(id_north_macedonia))\n",
    "    passes_north_macedonia_1[i] = c\n",
    "\n",
    "# TODO: change min2H to total number of minutes in the second half\n",
    "min2H = 49\n",
    "# min2H = 48\n",
    "passes_austria_2 = np.zeros(min2H)  # passes per team in second half\n",
    "passes_north_macedonia_2 = np.zeros(min2H)\n",
    "for i in range(0, min2H):\n",
    "    # events of type \"pass\" in the second half by sweden\n",
    "    c, e = events_time_range(filename, \"pass\", \"2H\",\n",
    "                             (i+45)*60, (i+46)*60-1, team=int(id_austria))\n",
    "    passes_austria_2[i] = c\n",
    "\n",
    "# events of type \"pass\" in the second half by poland\n",
    "    c, e = events_time_range(filename, \"pass\", \"2H\",\n",
    "                             (i+45)*60, (i+46)*60-1, team=int(id_north_macedonia))\n",
    "    passes_north_macedonia_2[i] = c\n",
    "\n",
    "# CODE BY rserrat - PLOT PASSES/POSSESSION PER MINUTE\n",
    "# Check possession\n",
    "# total posession\n",
    "frames_austria = np.sum(pos_per_min[:, 0])\n",
    "frames_macedonia = np.sum(pos_per_min[:, 1])\n",
    "pos_austria = frames_austria/(frames_austria+frames_macedonia)\n",
    "pos_macedonia = 1 - pos_austria\n",
    "print(f\"Possession Austria = {pos_austria*100:.2f}%\")\n",
    "print(f\"Possession North Macedonia = {pos_macedonia*100:.2f}%\")\n",
    "\n",
    "# Get minutes array s.t. no repeats\n",
    "minutes = pos_per_min[:, 3]\n",
    "minutes_unique = np.arange(1, len(minutes)+1)\n",
    "\n",
    "# Get passes for full match\n",
    "passes_swe = np.concatenate((passes_austria_1, passes_austria_2))\n",
    "passes_pol = np.concatenate(\n",
    "    (passes_north_macedonia_1, passes_north_macedonia_2))\n"
   ]
  },
  {
   "cell_type": "code",
   "execution_count": 33,
   "metadata": {},
   "outputs": [
    {
     "data": {
      "image/png": "[encoded data removed]",
      "text/plain": [
       "<Figure size 432x288 with 2 Axes>"
      ]
     },
     "metadata": {
      "needs_background": "light"
     },
     "output_type": "display_data"
    }
   ],
   "source": [
    "\n",
    "# Create plot\n",
    "# TODO: update ylim, yticks, yticklabels to fit the data\n",
    "fig, ax = plt.subplots()\n",
    "ax.bar(minutes_unique, passes_swe, color=(\n",
    "    1, 1, 3/255), edgecolor=\"black\", linewidth=.5)\n",
    "ax.bar(minutes_unique, -passes_pol, color=\"r\", edgecolor=\"black\")\n",
    "ax.set_xlabel(\"Minute\")\n",
    "ax.set_xlim(minutes_unique[0]-1, minutes_unique[-1]+1)\n",
    "ax.set_ylabel(\"Passes\")\n",
    "ax.set_ylim(-16, 16)\n",
    "ax.set_yticks([-15, -10, -5, 0, 5, 10, 15])\n",
    "ax.set_yticklabels([15, 10, 5, 0, 5, 10, 15])\n",
    "ax.set_facecolor((204/255, 229/255, 1.))\n",
    "\n",
    "# Minute labels\n",
    "min_ticks = []\n",
    "min_lbls = []\n",
    "for m in minutes[0:min1H]:\n",
    "    if not m % 3 == 0:\n",
    "        continue\n",
    "    min_ticks.append(m)\n",
    "    if m <= 45:\n",
    "        min_lbls.append(f\"{int(m)}\")\n",
    "    else:\n",
    "        min_lbls.append(f\"45+{int(m-45)}\")\n",
    "\n",
    "for m in minutes[min1H:]:\n",
    "    if not m % 3 == 1:\n",
    "        continue\n",
    "    m2 = int(m+45)\n",
    "    min_ticks.append(m2+3)\n",
    "    if m2 <= 90:\n",
    "        min_lbls.append(f\"{m2}\")\n",
    "    else:\n",
    "        min_lbls.append(f\"90+{m2-90}\")\n",
    "ax.set_xticks(min_ticks)\n",
    "ax.set_xticklabels(min_lbls, fontsize=8, rotation=90)\n",
    "\n",
    "# Get possession\n",
    "frames_austria = pos_per_min[:, 0]\n",
    "frames_macedonia = pos_per_min[:, 1]\n",
    "frames_tot = frames_austria + frames_macedonia\n",
    "\n",
    "# avoid divide by zero (set to 0). Note that pol != 1-swe due to this!\n",
    "possession_swe = np.divide(frames_austria, frames_tot, out=np.zeros_like(\n",
    "    frames_tot), where=frames_tot != 0)\n",
    "possession_pol = np.divide(frames_macedonia, frames_tot, out=np.zeros_like(\n",
    "    frames_tot), where=frames_tot != 0)\n",
    "\n",
    "# Plot possession\n",
    "# TODO: update ylim, yticks and yticklabels to fit the data\n",
    "ax2 = ax.twinx()\n",
    "ax2.plot(minutes_unique, possession_swe*100, color=\"blue\")\n",
    "ax2.plot(minutes_unique, -possession_pol*100, color=\"white\")\n",
    "ax2.set_ylabel(\"Possession [%]\")\n",
    "ax2.set_ylim(-105, 105)\n",
    "ax2.set_yticks([-100, -50, 0, 50, 100])\n",
    "ax2.set_yticklabels([100, 50, 0, 50, 100])\n",
    "\n",
    "# Add goals (with minutes normalized to account for overtime at the end of 1H)\n",
    "# TODO: update goal min with the minutes of the goals\n",
    "goal_min = [2, 59+3, 61+3, 84+3, 94+3]\n",
    "for g in goal_min:\n",
    "    ax.axvline(g, ls=\"--\", color=\"tab:gray\")\n",
    "\n",
    "plt.savefig('../../upload/possession_passes.png', dpi=300)\n",
    "plt.show()\n"
   ]
  },
  {
   "cell_type": "code",
   "execution_count": null,
   "metadata": {},
   "outputs": [],
   "source": []
  }
 ],
 "metadata": {
  "interpreter": {
   "hash": "d51905acba8981def21f4be14707fc4f0d567cc11cff9a605be93124eb60e46a"
  },
  "kernelspec": {
   "display_name": "Python 3.9.12 ('soccer-analytics')",
   "language": "python",
   "name": "python3"
  },
  "language_info": {
   "codemirror_mode": {
    "name": "ipython",
    "version": 3
   },
   "file_extension": ".py",
   "mimetype": "text/x-python",
   "name": "python",
   "nbconvert_exporter": "python",
   "pygments_lexer": "ipython3",
   "version": "3.9.12"
  },
  "orig_nbformat": 4
 },
 "nbformat": 4,
 "nbformat_minor": 2
}
